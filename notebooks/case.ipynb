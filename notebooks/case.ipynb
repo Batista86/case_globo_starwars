{
 "cells": [
  {
   "cell_type": "code",
   "execution_count": null,
   "metadata": {},
   "outputs": [],
   "source": [
    "# Instalação das bibliotecas\n",
    "!pip install requests pandas duckdb matplotlib"
   ]
  },
  {
   "cell_type": "code",
   "execution_count": 48,
   "metadata": {},
   "outputs": [
    {
     "name": "stdout",
     "output_type": "stream",
     "text": [
      "Dados salvos em personagens.json\n",
      "Dados salvos em planets.json\n",
      "Dados salvos em starships.json\n",
      "Dados salvos em films.json\n"
     ]
    }
   ],
   "source": [
    "import json\n",
    "import requests\n",
    "import pandas as pd\n",
    "import duckdb\n",
    "import matplotlib.pyplot as plt\n",
    "\n",
    "# Função para consumir os dados da API SWAPI e salvar como JSON\n",
    "def get_data_and_save(endpoint, filename):\n",
    "    url = f\"https://swapi.dev/api/{endpoint}/\"\n",
    "    data = []\n",
    "    while url:\n",
    "        response = requests.get(url)\n",
    "        if response.status_code == 200:\n",
    "            json_data = response.json()\n",
    "            data.extend(json_data['results'])\n",
    "            url = json_data['next']\n",
    "        else:\n",
    "            print(f\"Erro ao buscar {endpoint}\")\n",
    "            break\n",
    "# Salvando os dados em arquivo JSON\n",
    "    with open(filename, 'w') as file:\n",
    "        json.dump(data, file)\n",
    "    print(f\"Dados salvos em {filename}\")\n",
    "    return data\n",
    "\n",
    "# Baixando e salvando os dados em arquivos JSON\n",
    "characters = get_data_and_save('people', 'personagens.json')\n",
    "planets = get_data_and_save('planets', 'planets.json')\n",
    "starships = get_data_and_save('starships', 'starships.json')\n",
    "films = get_data_and_save('films', 'films.json')"
   ]
  },
  {
   "cell_type": "code",
   "execution_count": 64,
   "metadata": {},
   "outputs": [
    {
     "data": {
      "text/plain": [
       "<duckdb.duckdb.DuckDBPyConnection at 0x1e1bc7bdb30>"
      ]
     },
     "execution_count": 64,
     "metadata": {},
     "output_type": "execute_result"
    }
   ],
   "source": [
    "#Criar banco de dados com json no duckdb\n",
    "import duckdb\n",
    "con = duckdb.connect(\"starwars.db\")\n",
    "\n",
    "con.execute(\"CREATE TABLE IF NOT EXISTS personagens AS SELECT * FROM read_json_auto('personagens.json')\")\n",
    "\n",
    "con.execute(\"CREATE TABLE IF NOT EXISTS planets AS SELECT * FROM read_json_auto('planets.json')\")\n",
    "con.execute(\"CREATE TABLE IF NOT EXISTS starships AS SELECT * FROM read_json_auto('starships.json')\")\n",
    "con.execute(\"CREATE TABLE IF NOT EXISTS films AS SELECT * FROM read_json_auto('films.json')\")\n"
   ]
  },
  {
   "cell_type": "markdown",
   "metadata": {},
   "source": [
    "Analise dos dados para responder às perguntas usando consultas SQL."
   ]
  },
  {
   "cell_type": "code",
   "execution_count": 35,
   "metadata": {},
   "outputs": [
    {
     "name": "stdout",
     "output_type": "stream",
     "text": [
      "Personagem que apareceu em mais filmes de Star Wars:\n",
      "Personagem  Total de filmes\n",
      "     C-3PO                6\n"
     ]
    }
   ],
   "source": [
    "\n",
    "# Qual é o personagem que apareceu em mais filmes de Star Wars?\n",
    "query1 = '''\n",
    "-- Step 1: Unnest de filmes para cada personagem\n",
    "WITH unnest AS (\n",
    "    SELECT\n",
    "        p.name ,\n",
    "        UNNEST(films) AS films\n",
    "    FROM\n",
    "        personagens p\n",
    ")\n",
    "\n",
    "-- Step 2: Contagem de filmes por personagem\n",
    "\n",
    "    SELECT name as Personagem, \n",
    "    COUNT(films) as 'Total de filmes'\n",
    "FROM unnest \n",
    "GROUP BY name \n",
    "ORDER BY 2 DESC \n",
    "LIMIT 1\n",
    ";\n",
    "'''\n",
    "\n",
    "result_1 = con.execute(query1).fetchdf()\n",
    "print(\"Personagem que apareceu em mais filmes de Star Wars:\")\n",
    "# sem o index\n",
    "print(result_1.to_string(index=False))\n"
   ]
  },
  {
   "cell_type": "code",
   "execution_count": 47,
   "metadata": {},
   "outputs": [
    {
     "name": "stdout",
     "output_type": "stream",
     "text": [
      "Planetas mais quentes:\n",
      "     name    climate\n",
      " Mustafar        hot\n",
      "  Felucia hot, humid\n",
      "Saleucami        hot\n",
      "    Rodia        hot\n"
     ]
    }
   ],
   "source": [
    "# Quais são os planetas mais quentes do universo de Star Wars? (filtrando por climas quentes)\n",
    "query2 = '''\n",
    "SELECT name, climate \n",
    "FROM planets \n",
    "WHERE climate LIKE '%hot%' OR climate LIKE '%warm%'\n",
    "'''\n",
    "result_2 = con.execute(query2).fetchdf()\n",
    "print(\"Planetas mais quentes:\")\n",
    "print(result_2.to_string(index=False))"
   ]
  },
  {
   "cell_type": "code",
   "execution_count": 67,
   "metadata": {},
   "outputs": [
    {
     "name": "stdout",
     "output_type": "stream",
     "text": [
      "As naves espaciais mais rápida:\n",
      "                    name  max_speed\n",
      "     H-type Nubian yacht       8000\n",
      " J-type diplomatic barge       2000\n",
      "Theta-class T-2c shuttle       2000\n",
      "            Solar Sailer       1600\n",
      "        Jedi Interceptor       1500\n"
     ]
    }
   ],
   "source": [
    "#Quais são as naves espaciais mais rápida do universo de Star Wars?\n",
    "query3 = '''\n",
    "SELECT name, TRY_CAST(REGEXP_REPLACE(max_atmosphering_speed, '[^0-9]', '', 'g') AS INTEGER) AS max_speed\n",
    "FROM starships \n",
    "WHERE max_atmosphering_speed != 'n/a'\n",
    "ORDER BY max_speed DESC\n",
    "LIMIT 5\n",
    "'''\n",
    "result_3 = con.execute(query3).fetchdf()\n",
    "print(\"As naves espaciais mais rápida:\")\n",
    "print(result_3.to_string(index=False))\n"
   ]
  },
  {
   "cell_type": "code",
   "execution_count": 103,
   "metadata": {},
   "outputs": [
    {
     "name": "stdout",
     "output_type": "stream",
     "text": [
      "A nave mais poderosa:\n",
      "      name                  starship_class  cargo_capacity\n",
      "Death Star Deep Space Mobile Battlestation   1000000000000\n"
     ]
    }
   ],
   "source": [
    "# Consultando qual é a arma mais poderosa do universo de Star Wars \n",
    "query4 = '''\n",
    "SELECT name, starship_class,cargo_capacity\n",
    "FROM \n",
    "(\n",
    "    SELECT name, model, starship_class, CAST(cargo_capacity AS BIGINT) AS cargo_capacity\n",
    "    FROM starships\n",
    "    WHERE cargo_capacity != 'unknown'  -- Excluindo entradas desconhecidas\n",
    ")\n",
    "ORDER BY cargo_capacity DESC\n",
    "LIMIT 1\n",
    "'''\n",
    "\n",
    "result_4 = con.execute(query4).fetchdf()\n",
    "print(\"A nave mais poderosa:\")\n",
    "print(result_4.to_string(index=False))"
   ]
  },
  {
   "cell_type": "code",
   "execution_count": 112,
   "metadata": {},
   "outputs": [
    {
     "name": "stdout",
     "output_type": "stream",
     "text": [
      "Quantidade de personagens por gênero:\n",
      "       gender  count\n",
      "         male     60\n",
      "       female     17\n",
      "hermaphrodite      1\n"
     ]
    },
    {
     "data": {
      "image/png": "[encoded data removed]",
      "text/plain": [
       "<Figure size 1200x700 with 1 Axes>"
      ]
     },
     "metadata": {},
     "output_type": "display_data"
    }
   ],
   "source": [
    "# retorne a quantidade de personagens por gênero \n",
    "query = \"\"\"SELECT \n",
    "    gender,\n",
    "    COUNT(*) AS count\n",
    "FROM \n",
    "    personagens\n",
    "WHERE gender not in ('n/a', 'none')\n",
    "GROUP BY \n",
    "    gender; \"\"\"\n",
    "result_5 = con.execute(query).fetchdf()\n",
    "print(\"Quantidade de personagens por gênero:\")\n",
    "print(result_5.to_string(index=False))\n",
    "\n",
    "#fecha conexão\n",
    "con.close()\n",
    "\n",
    "# Criando um gráfico de pizza\n",
    "plt.figure(figsize=(12, 7))\n",
    "plt.pie(result_5['count'], autopct='%1.1f%%', startangle=140)\n",
    "\n",
    "# Adicionando um título ao gráfico\n",
    "plt.title('Distribuição de Personagens por Gênero')\n",
    "# Adicionando uma legenda\n",
    "plt.legend\n",
    "plt.axis('equal')\n",
    "plt.show()\n"
   ]
  }
 ],
 "metadata": {
  "kernelspec": {
   "display_name": "Python 3",
   "language": "python",
   "name": "python3"
  },
  "language_info": {
   "codemirror_mode": {
    "name": "ipython",
    "version": 3
   },
   "file_extension": ".py",
   "mimetype": "text/x-python",
   "name": "python",
   "nbconvert_exporter": "python",
   "pygments_lexer": "ipython3",
   "version": "3.12.3"
  }
 },
 "nbformat": 4,
 "nbformat_minor": 2
}
